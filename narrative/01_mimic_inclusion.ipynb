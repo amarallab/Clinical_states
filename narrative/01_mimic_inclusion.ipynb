{
 "cells": [
  {
   "cell_type": "code",
   "execution_count": 1,
   "metadata": {},
   "outputs": [],
   "source": [
    "import os\n",
    "import numpy as np\n",
    "import pandas as pd\n",
    "import matplotlib.pyplot as plt\n",
    "import seaborn as sns"
   ]
  },
  {
   "cell_type": "code",
   "execution_count": 2,
   "metadata": {},
   "outputs": [],
   "source": [
    "import sys\n",
    "sys.path.append('../src/')"
   ]
  },
  {
   "cell_type": "code",
   "execution_count": 3,
   "metadata": {},
   "outputs": [],
   "source": [
    "# set plotting params\n",
    "import matplotlib as mpl\n",
    "import plots\n",
    "mpl.rcParams.update(mpl.rcParamsDefault)\n",
    "plt.style.reload_library()\n",
    "rcparams = plots.stdrcparams()\n",
    "mpl.rcParams.update(rcparams)"
   ]
  },
  {
   "cell_type": "code",
   "execution_count": 4,
   "metadata": {},
   "outputs": [],
   "source": [
    "pd.set_option('display.max_columns', None)\n",
    "pd.set_option('display.max_rows', 30)"
   ]
  },
  {
   "cell_type": "code",
   "execution_count": 5,
   "metadata": {},
   "outputs": [],
   "source": [
    "mimic_dir = r'../data/mimic_iv'\n",
    "derived_dir = r'../data/mimiciv_derived'\n",
    "out_dir = r'../data/mimiciv_included'"
   ]
  },
  {
   "cell_type": "markdown",
   "metadata": {},
   "source": [
    "## pneumonia"
   ]
  },
  {
   "cell_type": "code",
   "execution_count": 6,
   "metadata": {},
   "outputs": [],
   "source": [
    "d_icd_diagnoses = pd.read_csv(os.path.join(mimic_dir, 'hosp', 'd_icd_diagnoses.csv.gz'))"
   ]
  },
  {
   "cell_type": "code",
   "execution_count": 7,
   "metadata": {},
   "outputs": [],
   "source": [
    "to_exclude = [\n",
    "    'Pneumococcal septicemia [Streptococcus pneumoniae septicemia]', \n",
    "    'Whooping cough due to Bordetella pertussis without pneumonia', \n",
    "    'Whooping cough due to Bordetella parapertussis without pneumonia',\n",
    "    'Whooping cough due to other Bordetella species without pneumonia',\n",
    "    'Whooping cough, unspecified species without pneumonia',\n",
    "    'Abscess of lung without pneumonia', \n",
    "    'Sepsis due to Streptococcus pneumoniae',\n",
    "    'Streptococcus pneumoniae as the cause of diseases classified elsewhere',\n",
    "    'Mycoplasma pneumoniae [M. pneumoniae] as the cause of diseases classified elsewhere',\n",
    "    'Klebsiella pneumoniae [K. pneumoniae] as the cause of diseases classified elsewhere',\n",
    "    'Acute bronchitis due to Mycoplasma pneumoniae',\n",
    "    'Other specified vaccinations against streptococcus pneumoniae [pneumococcus]',\n",
    "    'Need for prophylactic vaccination and inoculation against streptococcus pneumoniae [pneumococcus] and influenza',\n",
    "    'Personal history of pneumonia (recurrent)', \n",
    "    'Cryptogenic organizing pneumonia', \n",
    "    'Desquamative interstitial pneumonia', \n",
    "    'Other Staphylococcus pneumonia'\n",
    "]"
   ]
  },
  {
   "cell_type": "code",
   "execution_count": 8,
   "metadata": {},
   "outputs": [],
   "source": [
    "f1 = d_icd_diagnoses.long_title.str.contains('pneumonia', case=False)\n",
    "f2 = ~d_icd_diagnoses.long_title.isin(to_exclude)\n",
    "d_icd_pneu = d_icd_diagnoses[f1&f2]"
   ]
  },
  {
   "cell_type": "code",
   "execution_count": 9,
   "metadata": {},
   "outputs": [],
   "source": [
    "diagnoses_icd = pd.read_csv(os.path.join(mimic_dir, 'hosp', 'diagnoses_icd.csv.gz'))"
   ]
  },
  {
   "cell_type": "code",
   "execution_count": 10,
   "metadata": {},
   "outputs": [],
   "source": [
    "icd_pneu = diagnoses_icd.merge(d_icd_pneu)"
   ]
  },
  {
   "cell_type": "code",
   "execution_count": 11,
   "metadata": {},
   "outputs": [
    {
     "data": {
      "text/html": [
       "<div>\n",
       "<style scoped>\n",
       "    .dataframe tbody tr th:only-of-type {\n",
       "        vertical-align: middle;\n",
       "    }\n",
       "\n",
       "    .dataframe tbody tr th {\n",
       "        vertical-align: top;\n",
       "    }\n",
       "\n",
       "    .dataframe thead th {\n",
       "        text-align: right;\n",
       "    }\n",
       "</style>\n",
       "<table border=\"1\" class=\"dataframe\">\n",
       "  <thead>\n",
       "    <tr style=\"text-align: right;\">\n",
       "      <th></th>\n",
       "      <th>subject_id</th>\n",
       "      <th>hadm_id</th>\n",
       "      <th>seq_num</th>\n",
       "      <th>icd_code</th>\n",
       "      <th>icd_version</th>\n",
       "      <th>long_title</th>\n",
       "    </tr>\n",
       "  </thead>\n",
       "  <tbody>\n",
       "    <tr>\n",
       "      <th>0</th>\n",
       "      <td>10000826</td>\n",
       "      <td>20032235</td>\n",
       "      <td>2</td>\n",
       "      <td>486</td>\n",
       "      <td>9</td>\n",
       "      <td>Pneumonia, organism unspecified</td>\n",
       "    </tr>\n",
       "    <tr>\n",
       "      <th>1</th>\n",
       "      <td>10001176</td>\n",
       "      <td>23334588</td>\n",
       "      <td>1</td>\n",
       "      <td>4829</td>\n",
       "      <td>9</td>\n",
       "      <td>Bacterial pneumonia, unspecified</td>\n",
       "    </tr>\n",
       "    <tr>\n",
       "      <th>2</th>\n",
       "      <td>10001884</td>\n",
       "      <td>25758848</td>\n",
       "      <td>1</td>\n",
       "      <td>486</td>\n",
       "      <td>9</td>\n",
       "      <td>Pneumonia, organism unspecified</td>\n",
       "    </tr>\n",
       "    <tr>\n",
       "      <th>3</th>\n",
       "      <td>10002155</td>\n",
       "      <td>20345487</td>\n",
       "      <td>2</td>\n",
       "      <td>486</td>\n",
       "      <td>9</td>\n",
       "      <td>Pneumonia, organism unspecified</td>\n",
       "    </tr>\n",
       "    <tr>\n",
       "      <th>4</th>\n",
       "      <td>10002155</td>\n",
       "      <td>23822395</td>\n",
       "      <td>2</td>\n",
       "      <td>486</td>\n",
       "      <td>9</td>\n",
       "      <td>Pneumonia, organism unspecified</td>\n",
       "    </tr>\n",
       "  </tbody>\n",
       "</table>\n",
       "</div>"
      ],
      "text/plain": [
       "   subject_id   hadm_id  seq_num icd_code  icd_version  \\\n",
       "0    10000826  20032235        2      486            9   \n",
       "1    10001176  23334588        1     4829            9   \n",
       "2    10001884  25758848        1      486            9   \n",
       "3    10002155  20345487        2      486            9   \n",
       "4    10002155  23822395        2      486            9   \n",
       "\n",
       "                         long_title  \n",
       "0   Pneumonia, organism unspecified  \n",
       "1  Bacterial pneumonia, unspecified  \n",
       "2   Pneumonia, organism unspecified  \n",
       "3   Pneumonia, organism unspecified  \n",
       "4   Pneumonia, organism unspecified  "
      ]
     },
     "execution_count": 11,
     "metadata": {},
     "output_type": "execute_result"
    }
   ],
   "source": [
    "icd_pneu.head()"
   ]
  },
  {
   "cell_type": "markdown",
   "metadata": {},
   "source": [
    "## icu"
   ]
  },
  {
   "cell_type": "code",
   "execution_count": 12,
   "metadata": {},
   "outputs": [],
   "source": [
    "icustay_detail = pd.read_csv(os.path.join(derived_dir, 'icustay_detail.csv.gz'))\n",
    "icustay_times = pd.read_csv(os.path.join(derived_dir, 'icustay_times.csv.gz'))"
   ]
  },
  {
   "cell_type": "code",
   "execution_count": 13,
   "metadata": {},
   "outputs": [
    {
     "name": "stdout",
     "output_type": "stream",
     "text": [
      "<class 'pandas.core.frame.DataFrame'>\n",
      "RangeIndex: 73181 entries, 0 to 73180\n",
      "Data columns (total 5 columns):\n",
      " #   Column      Non-Null Count  Dtype \n",
      "---  ------      --------------  ----- \n",
      " 0   subject_id  73181 non-null  int64 \n",
      " 1   hadm_id     73181 non-null  int64 \n",
      " 2   stay_id     73181 non-null  int64 \n",
      " 3   intime_hr   73163 non-null  object\n",
      " 4   outtime_hr  73163 non-null  object\n",
      "dtypes: int64(3), object(2)\n",
      "memory usage: 2.8+ MB\n"
     ]
    }
   ],
   "source": [
    "icustay_times.info()"
   ]
  },
  {
   "cell_type": "code",
   "execution_count": 14,
   "metadata": {},
   "outputs": [
    {
     "name": "stdout",
     "output_type": "stream",
     "text": [
      "<class 'pandas.core.frame.DataFrame'>\n",
      "RangeIndex: 73181 entries, 0 to 73180\n",
      "Data columns (total 18 columns):\n",
      " #   Column                Non-Null Count  Dtype  \n",
      "---  ------                --------------  -----  \n",
      " 0   subject_id            73181 non-null  int64  \n",
      " 1   hadm_id               73181 non-null  int64  \n",
      " 2   stay_id               73181 non-null  int64  \n",
      " 3   gender                73181 non-null  object \n",
      " 4   dod                   28274 non-null  object \n",
      " 5   admittime             73181 non-null  object \n",
      " 6   dischtime             73181 non-null  object \n",
      " 7   los_hospital          73181 non-null  int64  \n",
      " 8   admission_age         73181 non-null  int64  \n",
      " 9   race                  73181 non-null  object \n",
      " 10  hospital_expire_flag  73181 non-null  int64  \n",
      " 11  hospstay_seq          73181 non-null  int64  \n",
      " 12  first_hosp_stay       73181 non-null  bool   \n",
      " 13  icu_intime            73181 non-null  object \n",
      " 14  icu_outtime           73181 non-null  object \n",
      " 15  los_icu               73181 non-null  float64\n",
      " 16  icustay_seq           73181 non-null  int64  \n",
      " 17  first_icu_stay        73181 non-null  bool   \n",
      "dtypes: bool(2), float64(1), int64(8), object(7)\n",
      "memory usage: 9.1+ MB\n"
     ]
    }
   ],
   "source": [
    "icustay_detail.info()"
   ]
  },
  {
   "cell_type": "code",
   "execution_count": 15,
   "metadata": {},
   "outputs": [
    {
     "name": "stdout",
     "output_type": "stream",
     "text": [
      "<class 'pandas.core.frame.DataFrame'>\n",
      "RangeIndex: 73181 entries, 0 to 73180\n",
      "Data columns (total 20 columns):\n",
      " #   Column                Non-Null Count  Dtype  \n",
      "---  ------                --------------  -----  \n",
      " 0   subject_id            73181 non-null  int64  \n",
      " 1   hadm_id               73181 non-null  int64  \n",
      " 2   stay_id               73181 non-null  int64  \n",
      " 3   intime_hr             73163 non-null  object \n",
      " 4   outtime_hr            73163 non-null  object \n",
      " 5   gender                73181 non-null  object \n",
      " 6   dod                   28274 non-null  object \n",
      " 7   admittime             73181 non-null  object \n",
      " 8   dischtime             73181 non-null  object \n",
      " 9   los_hospital          73181 non-null  int64  \n",
      " 10  admission_age         73181 non-null  int64  \n",
      " 11  race                  73181 non-null  object \n",
      " 12  hospital_expire_flag  73181 non-null  int64  \n",
      " 13  hospstay_seq          73181 non-null  int64  \n",
      " 14  first_hosp_stay       73181 non-null  bool   \n",
      " 15  icu_intime            73181 non-null  object \n",
      " 16  icu_outtime           73181 non-null  object \n",
      " 17  los_icu               73181 non-null  float64\n",
      " 18  icustay_seq           73181 non-null  int64  \n",
      " 19  first_icu_stay        73181 non-null  bool   \n",
      "dtypes: bool(2), float64(1), int64(8), object(9)\n",
      "memory usage: 10.2+ MB\n"
     ]
    }
   ],
   "source": [
    "icustay_times.merge(icustay_detail).info()"
   ]
  },
  {
   "cell_type": "code",
   "execution_count": 16,
   "metadata": {},
   "outputs": [],
   "source": [
    "icus = icustay_times.merge(icustay_detail)"
   ]
  },
  {
   "cell_type": "code",
   "execution_count": 17,
   "metadata": {},
   "outputs": [],
   "source": [
    "icus = icus.merge(icd_pneu[['subject_id', 'hadm_id']].drop_duplicates())"
   ]
  },
  {
   "cell_type": "code",
   "execution_count": 18,
   "metadata": {},
   "outputs": [],
   "source": [
    "icd_pneu = icd_pneu.merge(icus[['subject_id', 'hadm_id']].drop_duplicates())"
   ]
  },
  {
   "cell_type": "markdown",
   "metadata": {},
   "source": [
    "## vent"
   ]
  },
  {
   "cell_type": "code",
   "execution_count": 19,
   "metadata": {},
   "outputs": [],
   "source": [
    "ventilation = pd.read_csv(os.path.join(derived_dir, 'ventilation.csv.gz'))"
   ]
  },
  {
   "cell_type": "code",
   "execution_count": 20,
   "metadata": {},
   "outputs": [],
   "source": [
    "ventilation = ventilation.dropna(subset='ventilation_status')"
   ]
  },
  {
   "cell_type": "code",
   "execution_count": 21,
   "metadata": {},
   "outputs": [],
   "source": [
    "icus = icus.merge(ventilation[['stay_id']].drop_duplicates())\n",
    "icd_pneu = icd_pneu.merge(icus[['subject_id', 'hadm_id']].drop_duplicates())\n",
    "ventilation = ventilation.merge(icus[['subject_id', 'hadm_id', 'stay_id']].drop_duplicates())"
   ]
  },
  {
   "cell_type": "markdown",
   "metadata": {},
   "source": [
    "## adult"
   ]
  },
  {
   "cell_type": "code",
   "execution_count": 22,
   "metadata": {},
   "outputs": [],
   "source": [
    "age = pd.read_csv(os.path.join(derived_dir, 'age.csv.gz'))"
   ]
  },
  {
   "cell_type": "code",
   "execution_count": 23,
   "metadata": {},
   "outputs": [
    {
     "data": {
      "text/plain": [
       "18"
      ]
     },
     "execution_count": 23,
     "metadata": {},
     "output_type": "execute_result"
    }
   ],
   "source": [
    "f = age.hadm_id.isin(icus.hadm_id)\n",
    "age[f].age.min()"
   ]
  },
  {
   "cell_type": "code",
   "execution_count": 24,
   "metadata": {},
   "outputs": [
    {
     "data": {
      "text/plain": [
       "<Axes: >"
      ]
     },
     "execution_count": 24,
     "metadata": {},
     "output_type": "execute_result"
    },
    {
     "data": {
      "image/png": "[encoded data removed]",
      "text/plain": [
       "<Figure size 640x480 with 1 Axes>"
      ]
     },
     "metadata": {},
     "output_type": "display_data"
    }
   ],
   "source": [
    "age[f].age.hist()"
   ]
  },
  {
   "cell_type": "code",
   "execution_count": 25,
   "metadata": {},
   "outputs": [],
   "source": [
    "age = age.merge(icus[['subject_id', 'hadm_id']].drop_duplicates())"
   ]
  },
  {
   "cell_type": "markdown",
   "metadata": {},
   "source": [
    "## save"
   ]
  },
  {
   "cell_type": "code",
   "execution_count": 26,
   "metadata": {},
   "outputs": [],
   "source": [
    "icus.to_csv(os.path.join(out_dir, 'icus.csv'))\n",
    "icd_pneu.to_csv(os.path.join(out_dir, 'icd_pneu.csv'))\n",
    "ventilation.to_csv(os.path.join(out_dir, 'ventilation.csv'))\n",
    "age.to_csv(os.path.join(out_dir, 'age.csv'))"
   ]
  },
  {
   "cell_type": "code",
   "execution_count": null,
   "metadata": {},
   "outputs": [],
   "source": []
  }
 ],
 "metadata": {
  "kernelspec": {
   "display_name": ".venv",
   "language": "python",
   "name": "python3"
  },
  "language_info": {
   "codemirror_mode": {
    "name": "ipython",
    "version": 3
   },
   "file_extension": ".py",
   "mimetype": "text/x-python",
   "name": "python",
   "nbconvert_exporter": "python",
   "pygments_lexer": "ipython3",
   "version": "3.9.13"
  }
 },
 "nbformat": 4,
 "nbformat_minor": 2
}
